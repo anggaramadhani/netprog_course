{
 "cells": [
  {
   "cell_type": "code",
   "execution_count": 3,
   "metadata": {},
   "outputs": [],
   "source": [
    "# Import library yang diperlukan\n",
    "import argparse \n",
    "import getpass\n",
    "import imaplib\n",
    "import poplib\n",
    "import smtplib\n"
   ]
  },
  {
   "cell_type": "code",
   "execution_count": 12,
   "metadata": {},
   "outputs": [],
   "source": [
    "# Tulis kode program dari sini \n",
    "def imap_mail(username):\n",
    "    IMAP_SERVER = 'outlook.office365.com'\n",
    "    IMAP_PORT = 993\n",
    "    try :\n",
    "        mailbox = imaplib.IMAP4_SSL(IMAP_SERVER, IMAP_PORT)\n",
    "        password = getpass.getpass(prompt='#IMAP MAIL# \\nEnter your email password: ')\n",
    "        mailbox.login(username, password)\n",
    "        mailbox.select('Inbox')\n",
    "        typ, data= mailbox.search(none, 'ALL')\n",
    "        for num in data [0].split():\n",
    "            typ, data = mailbox.fetch (num, '(RFC822)')\n",
    "            print ('Massage %s\\n%s\\n' % (num, data [0][1]))\n",
    "            break\n",
    "        mailbox.close()\n",
    "        mailbox.close()\n",
    "    except :\n",
    "        print (\"Erorr\")\n",
    "\n",
    "def pop_mail(username):\n",
    "    POP_SERVER = 'outlook.office365.com'\n",
    "    POP_PORT = 995\n",
    "    try:\n",
    "        mailbox = poplib.POP3_SSL(POP_SERVER, POP_PORT)\n",
    "        mailbox.user(username)\n",
    "        password = getpass.getpass(prompt='#POP MAIL# \\nEnter your email password: ')\n",
    "        mailbox.pass_(password)\n",
    "        num_massage = len(mailbox.list()[1])\n",
    "        print ('Total emails:{}' .format(num_massage))\n",
    "        mailbox.quit()\n",
    "    except :\n",
    "        print (\"Erorr\")\n",
    "    # Tulis kode program dari sini \n",
    "    \n",
    "        # Implementasikan Error-handling\n",
    "        \n",
    "    # Sampai di sini"
   ]
  },
  {
   "cell_type": "markdown",
   "metadata": {},
   "source": [
    "Buatlah sebuah fungsi yang dapat menggabungkan fungsionalitas fungsi `imap_mail()` dan `pop_mail()`"
   ]
  },
  {
   "cell_type": "code",
   "execution_count": 8,
   "metadata": {},
   "outputs": [],
   "source": [
    "def mail(username, protocol, host, port):\n",
    "    imap_mail(username)\n",
    "    pop_mail(username)\n",
    "    # Tulis kode program dari sini \n",
    "    \n",
    "        # Implementasikan Error-handling\n",
    "        \n",
    "    # Sampai di sini"
   ]
  },
  {
   "cell_type": "markdown",
   "metadata": {},
   "source": [
    "Panggil fungsi `mail()` di bawah ini:"
   ]
  },
  {
   "cell_type": "code",
   "execution_count": 11,
   "metadata": {},
   "outputs": [
    {
     "output_type": "stream",
     "name": "stdout",
     "text": "Erorr\nErorr\n"
    }
   ],
   "source": [
    "mail(\"170010014@stikombali.bali.ac.id\",\"all\",\"all\",\"all\")"
   ]
  },
  {
   "cell_type": "code",
   "execution_count": null,
   "metadata": {},
   "outputs": [],
   "source": []
  }
 ],
 "metadata": {
  "kernelspec": {
   "display_name": "Python 3.8.1 64-bit",
   "language": "python",
   "name": "python38164bit9685c45a33a24387b6ad8d2a9a95a636"
  },
  "language_info": {
   "codemirror_mode": {
    "name": "ipython",
    "version": 3
   },
   "file_extension": ".py",
   "mimetype": "text/x-python",
   "name": "python",
   "nbconvert_exporter": "python",
   "pygments_lexer": "ipython3",
   "version": "3.8.1-final"
  }
 },
 "nbformat": 4,
 "nbformat_minor": 4
}